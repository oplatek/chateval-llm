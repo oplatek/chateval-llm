{
 "cells": [
  {
   "cell_type": "code",
   "execution_count": 42,
   "id": "e1a2cee9",
   "metadata": {},
   "outputs": [],
   "source": [
    "import argparse\n",
    "import csv\n",
    "import wandb\n",
    "import numpy as np\n",
    "import pandas as pd\n",
    "from scipy.stats import rankdata\n",
    "import glob"
   ]
  },
  {
   "cell_type": "code",
   "execution_count": 43,
   "id": "7a69abe3",
   "metadata": {},
   "outputs": [],
   "source": [
    "# These are needed if accessing a wandb table\n",
    "run_name = 'run-7b7fxaaf-AMFMconvai2grade_en:v0'\n",
    "project = 'metric/chateval/'\n",
    "table_name = 'AM-FM-convai2-grade_en.table.json'\n",
    "\n",
    "# This is needed if accessing a stored csv file in the exp folder\n",
    "run_id = '6x05lyco'\n",
    "\n",
    "# This is always needed\n",
    "gold_name = 'annotations.relevance'\n",
    "metric_name = 'am_fm_scores'\n",
    "dataset = 'convai'"
   ]
  },
  {
   "cell_type": "code",
   "execution_count": 44,
   "id": "ab54989d",
   "metadata": {},
   "outputs": [],
   "source": [
    "def get_wandb_table(run_name, table_name):\n",
    "    api = wandb.Api()\n",
    "    art = api.artifact(run_name)\n",
    "    table = art.get(table_name)\n",
    "    return pd.DataFrame(data=table.data, columns=table.columns)"
   ]
  },
  {
   "cell_type": "code",
   "execution_count": 45,
   "id": "53fa2193",
   "metadata": {},
   "outputs": [],
   "source": [
    "def get_table_from_exp(run_id):\n",
    "    csv_path = '../chateval-exp/{}/*csv'.format(run_id)\n",
    "    csv_path = glob.glob(csv_path)\n",
    "    if len(csv_path) < 1:\n",
    "        print('Run not found, check the symlink')\n",
    "        return None\n",
    "    return pd.read_csv(csv_path[0])\n",
    "    "
   ]
  },
  {
   "cell_type": "code",
   "execution_count": 46,
   "id": "a0609a5f",
   "metadata": {},
   "outputs": [
    {
     "name": "stderr",
     "output_type": "stream",
     "text": [
      "\u001b[34m\u001b[1mwandb\u001b[0m:   1 of 1 files downloaded.  \n"
     ]
    }
   ],
   "source": [
    "table = get_wandb_table(project + run_name, table_name)\n",
    "#table = get_table_from_exp(run_id)"
   ]
  },
  {
   "cell_type": "code",
   "execution_count": 48,
   "id": "6da04b3e",
   "metadata": {},
   "outputs": [],
   "source": [
    "gold_scores = table[gold_name]\n",
    "gold_ranks = rankdata(gold_scores)"
   ]
  },
  {
   "cell_type": "code",
   "execution_count": 50,
   "id": "53391f87",
   "metadata": {},
   "outputs": [],
   "source": [
    "metric_scores = table[metric_name]\n",
    "metric_ranks = rankdata(metric_scores)\n",
    "metric_vs_gold = gold_ranks - metric_ranks"
   ]
  },
  {
   "cell_type": "code",
   "execution_count": 52,
   "id": "30213341",
   "metadata": {},
   "outputs": [],
   "source": [
    "df = pd.DataFrame(list(zip(table['dialogue_id'],\n",
    "                          gold_scores, gold_ranks,\n",
    "                          metric_scores, metric_ranks,\n",
    "                          np.absolute(metric_vs_gold))),\n",
    "                 columns = ['dialogue_id', 'gold_score', 'gold_rank',\n",
    "                            metric_name, '{}_rank'.format(metric_name), '{}_vs_gold'.format(metric_name)])\n",
    "df = df.sort_values(by=['{}_vs_gold'.format(metric_name)], ascending=False)"
   ]
  },
  {
   "cell_type": "code",
   "execution_count": 53,
   "id": "2a535359",
   "metadata": {},
   "outputs": [],
   "source": [
    "df.to_csv('{}_{}_ranks_sorted.csv'.format(dataset, metric_name))"
   ]
  },
  {
   "cell_type": "code",
   "execution_count": null,
   "id": "482442e0",
   "metadata": {},
   "outputs": [],
   "source": []
  }
 ],
 "metadata": {
  "kernelspec": {
   "display_name": "Python 3 (ipykernel)",
   "language": "python",
   "name": "python3"
  },
  "language_info": {
   "codemirror_mode": {
    "name": "ipython",
    "version": 3
   },
   "file_extension": ".py",
   "mimetype": "text/x-python",
   "name": "python",
   "nbconvert_exporter": "python",
   "pygments_lexer": "ipython3",
   "version": "3.10.9"
  }
 },
 "nbformat": 4,
 "nbformat_minor": 5
}
